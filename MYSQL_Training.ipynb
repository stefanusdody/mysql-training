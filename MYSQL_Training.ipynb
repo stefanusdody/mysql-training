{
 "cells": [
  {
   "cell_type": "markdown",
   "id": "173a9711",
   "metadata": {},
   "source": [
    "# Source Documentation"
   ]
  },
  {
   "cell_type": "markdown",
   "id": "4899cb95",
   "metadata": {},
   "source": [
    "https://dev.mysql.com/doc/refman/8.0/en/creating-database.html"
   ]
  },
  {
   "cell_type": "markdown",
   "id": "46315d4c",
   "metadata": {},
   "source": [
    "# Import Library"
   ]
  },
  {
   "cell_type": "code",
   "execution_count": 1,
   "id": "13192848",
   "metadata": {},
   "outputs": [],
   "source": [
    "import mysql.connector as sql"
   ]
  },
  {
   "cell_type": "markdown",
   "id": "73773664",
   "metadata": {},
   "source": [
    "\n",
    "# Create SQL Connection"
   ]
  },
  {
   "cell_type": "code",
   "execution_count": 2,
   "id": "94aed12a",
   "metadata": {},
   "outputs": [
    {
     "name": "stdout",
     "output_type": "stream",
     "text": [
      "<mysql.connector.connection.MySQLConnection object at 0x10a7dce50>\n"
     ]
    }
   ],
   "source": [
    "connection = sql.connect(\n",
    " host=\"localhost\",\n",
    " user=\"root\",\n",
    " #password=\"\"\n",
    ")\n",
    "\n",
    "print(connection)"
   ]
  },
  {
   "cell_type": "markdown",
   "id": "8552190f",
   "metadata": {},
   "source": [
    "# Database"
   ]
  },
  {
   "cell_type": "markdown",
   "id": "05f3998d",
   "metadata": {},
   "source": [
    "#### Creating Database Student"
   ]
  },
  {
   "cell_type": "code",
   "execution_count": 3,
   "id": "fb6d3ee5",
   "metadata": {},
   "outputs": [],
   "source": [
    "cursor = connection.cursor()\n",
    "\n",
    "#cursor.execute(\"CREATE DATABASE menagerie\")"
   ]
  },
  {
   "cell_type": "markdown",
   "id": "d2319f41",
   "metadata": {},
   "source": [
    "#### Read All Databases"
   ]
  },
  {
   "cell_type": "code",
   "execution_count": 4,
   "id": "7a81313a",
   "metadata": {},
   "outputs": [
    {
     "name": "stdout",
     "output_type": "stream",
     "text": [
      "('information_schema',)\n",
      "('menagerie',)\n",
      "('mysql',)\n",
      "('performance_schema',)\n"
     ]
    }
   ],
   "source": [
    "cursor = connection.cursor()\n",
    "\n",
    "cursor.execute(\"SHOW DATABASES\")\n",
    "\n",
    "for database in cursor:\n",
    "    print(database)"
   ]
  },
  {
   "cell_type": "markdown",
   "id": "39a867da",
   "metadata": {},
   "source": [
    "#### Read spesific database"
   ]
  },
  {
   "cell_type": "code",
   "execution_count": 5,
   "id": "34de2278",
   "metadata": {},
   "outputs": [
    {
     "name": "stdout",
     "output_type": "stream",
     "text": [
      "<mysql.connector.connection.MySQLConnection object at 0x10ac1f490>\n"
     ]
    }
   ],
   "source": [
    "# connect with student database\n",
    "connection = sql.connect(\n",
    " host=\"localhost\",\n",
    " user=\"root\",\n",
    " #password=\"\"\n",
    " database='menagerie'\n",
    ")\n",
    "\n",
    "print(connection)"
   ]
  },
  {
   "cell_type": "markdown",
   "id": "ffb3b5d1",
   "metadata": {},
   "source": [
    "#### Drop Database"
   ]
  },
  {
   "cell_type": "code",
   "execution_count": 6,
   "id": "97dbdc98",
   "metadata": {},
   "outputs": [],
   "source": [
    "#cursor.execute(\"DROP DATABASE menagerie\")"
   ]
  },
  {
   "cell_type": "markdown",
   "id": "60842f04",
   "metadata": {},
   "source": [
    "# Table"
   ]
  },
  {
   "cell_type": "markdown",
   "id": "6af587b9",
   "metadata": {},
   "source": [
    "#### read All tables"
   ]
  },
  {
   "cell_type": "code",
   "execution_count": 7,
   "id": "4ce8da4d",
   "metadata": {},
   "outputs": [],
   "source": [
    "cursor = connection.cursor()\n",
    "\n",
    "cursor.execute(\"SHOW TABLES\")\n",
    "\n",
    "for database in cursor:\n",
    "    print(database)"
   ]
  },
  {
   "cell_type": "markdown",
   "id": "44b3f2eb",
   "metadata": {},
   "source": [
    "#### Create Table in MySQL"
   ]
  },
  {
   "cell_type": "code",
   "execution_count": 8,
   "id": "a4c1c0ff",
   "metadata": {},
   "outputs": [],
   "source": [
    "cursor = connection.cursor()\n",
    "\n",
    "cursor.execute(\"CREATE TABLE pet(id INT AUTO_INCREMENT PRIMARY KEY, name VARCHAR(20),  owner VARCHAR(20), species VARCHAR(20), sex CHAR(1), birth VARCHAR(20), death VARCHAR(20))\")"
   ]
  },
  {
   "cell_type": "markdown",
   "id": "057fafad",
   "metadata": {},
   "source": [
    "### Create Records in Table"
   ]
  },
  {
   "cell_type": "code",
   "execution_count": 9,
   "id": "af8e97c4",
   "metadata": {},
   "outputs": [
    {
     "name": "stdout",
     "output_type": "stream",
     "text": [
      "Row inserted 1\n"
     ]
    }
   ],
   "source": [
    "query = \"INSERT INTO pet (name, owner, species, sex, birth, death) VALUES(%s,%s,%s,%s,%s,%s)\"\n",
    "value = ('Puffball','Diane','hamster','f','1999-03-30','')\n",
    "cursor.execute(query, value)\n",
    "# Execute statement\n",
    "connection.commit()\n",
    "\n",
    "print(\"Row inserted\", cursor.lastrowid)"
   ]
  },
  {
   "cell_type": "markdown",
   "id": "0fed20ad",
   "metadata": {},
   "source": [
    "### Read All"
   ]
  },
  {
   "cell_type": "code",
   "execution_count": 10,
   "id": "264f6f0d",
   "metadata": {},
   "outputs": [
    {
     "data": {
      "text/plain": [
       "[(1, 'Puffball', 'Diane', 'hamster', 'f', '1999-03-30', '')]"
      ]
     },
     "execution_count": 10,
     "metadata": {},
     "output_type": "execute_result"
    }
   ],
   "source": [
    "cursor = connection.cursor()\n",
    "\n",
    "cursor.execute(\"SELECT * from pet\")\n",
    "\n",
    "# Fetch all the Data\n",
    "cursor.fetchall()"
   ]
  },
  {
   "cell_type": "markdown",
   "id": "d7f55424",
   "metadata": {},
   "source": [
    "### Create Multiple records in Table"
   ]
  },
  {
   "cell_type": "code",
   "execution_count": 11,
   "id": "933d5665",
   "metadata": {},
   "outputs": [
    {
     "name": "stdout",
     "output_type": "stream",
     "text": [
      "Row inserted 2\n"
     ]
    }
   ],
   "source": [
    "query = \"INSERT INTO pet (name, owner, species, sex, birth, death) VALUES(%s,%s,%s,%s,%s,%s)\"\n",
    "values = [('Fluffy', 'Harold', 'cat', 'f', '1993-02-04', 'NULL'),\n",
    "          ('Claws', 'Gwen', 'cat', 'm', '1994-03-17', 'NULL'),\n",
    "          ('Buffy', 'Harold', 'dog', 'f', '1989-05-13', 'NULL'),\n",
    "          ('Fang', 'Benny', 'dog', 'm',  '1990-08-27', 'NULL'),\n",
    "          ('Bowser', 'Diane', 'dog', 'm', '1979-08-31', '1995-07-29'),\n",
    "          ('Chirpy', 'Gwen', 'bird', 'f','1998-09-11', 'NULL'),\n",
    "          ('Whistler', 'Gwen', 'bird', 'm', '1997-12-09', 'NULL'),\n",
    "          ('Slim', 'Benny', 'snake', 'm', '1996-04-29', 'NULL')\n",
    "         ]\n",
    "cursor.executemany(query,values)\n",
    "# Execute statement\n",
    "connection.commit()\n",
    "\n",
    "print(\"Row inserted\",cursor.lastrowid)"
   ]
  },
  {
   "cell_type": "markdown",
   "id": "3db787bc",
   "metadata": {},
   "source": [
    "### Read All"
   ]
  },
  {
   "cell_type": "code",
   "execution_count": 12,
   "id": "550f6363",
   "metadata": {},
   "outputs": [
    {
     "data": {
      "text/plain": [
       "[(1, 'Puffball', 'Diane', 'hamster', 'f', '1999-03-30', ''),\n",
       " (2, 'Fluffy', 'Harold', 'cat', 'f', '1993-02-04', 'NULL'),\n",
       " (3, 'Claws', 'Gwen', 'cat', 'm', '1994-03-17', 'NULL'),\n",
       " (4, 'Buffy', 'Harold', 'dog', 'f', '1989-05-13', 'NULL'),\n",
       " (5, 'Fang', 'Benny', 'dog', 'm', '1990-08-27', 'NULL'),\n",
       " (6, 'Bowser', 'Diane', 'dog', 'm', '1979-08-31', '1995-07-29'),\n",
       " (7, 'Chirpy', 'Gwen', 'bird', 'f', '1998-09-11', 'NULL'),\n",
       " (8, 'Whistler', 'Gwen', 'bird', 'm', '1997-12-09', 'NULL'),\n",
       " (9, 'Slim', 'Benny', 'snake', 'm', '1996-04-29', 'NULL')]"
      ]
     },
     "execution_count": 12,
     "metadata": {},
     "output_type": "execute_result"
    }
   ],
   "source": [
    "cursor = connection.cursor()\n",
    "\n",
    "cursor.execute(\"SELECT * FROM pet\")\n",
    "\n",
    "# Fetch data\n",
    "cursor.fetchall()"
   ]
  },
  {
   "cell_type": "markdown",
   "id": "00225a66",
   "metadata": {},
   "source": [
    "### Read Particular Rows"
   ]
  },
  {
   "cell_type": "code",
   "execution_count": 13,
   "id": "79950fd6",
   "metadata": {},
   "outputs": [
    {
     "data": {
      "text/plain": [
       "[(2, 'Fluffy', 'Harold', 'cat', 'f', '1993-02-04', 'NULL')]"
      ]
     },
     "execution_count": 13,
     "metadata": {},
     "output_type": "execute_result"
    }
   ],
   "source": [
    "# what_to_select(SELECT), which_table(FROM), conditions_to_satisfy(WHERE)\n",
    "cursor.execute(\"SELECT * FROM pet WHERE name='Fluffy' \")\n",
    "\n",
    "# Fetch data\n",
    "cursor.fetchall()"
   ]
  },
  {
   "cell_type": "code",
   "execution_count": 14,
   "id": "23f354c4",
   "metadata": {},
   "outputs": [
    {
     "data": {
      "text/plain": [
       "[(1, 'Puffball', 'Diane', 'hamster', 'f', '1999-03-30', ''),\n",
       " (7, 'Chirpy', 'Gwen', 'bird', 'f', '1998-09-11', 'NULL')]"
      ]
     },
     "execution_count": 14,
     "metadata": {},
     "output_type": "execute_result"
    }
   ],
   "source": [
    "# what_to_select(SELECT), which_table(FROM), conditions_to_satisfy(WHERE)\n",
    "cursor.execute(\"SELECT * FROM pet WHERE birth >= '1998-01-01' \")\n",
    "\n",
    "# Fetch data\n",
    "cursor.fetchall()"
   ]
  },
  {
   "cell_type": "code",
   "execution_count": 15,
   "id": "c0672071",
   "metadata": {},
   "outputs": [
    {
     "data": {
      "text/plain": [
       "[(4, 'Buffy', 'Harold', 'dog', 'f', '1989-05-13', 'NULL')]"
      ]
     },
     "execution_count": 15,
     "metadata": {},
     "output_type": "execute_result"
    }
   ],
   "source": [
    "# what_to_select(SELECT), which_table(FROM), conditions_to_satisfy(WHERE)\n",
    "cursor.execute(\"SELECT * FROM pet WHERE species='dog' AND sex='f' \")\n",
    "\n",
    "# Fetch data\n",
    "cursor.fetchall()"
   ]
  },
  {
   "cell_type": "code",
   "execution_count": 16,
   "id": "0951846e",
   "metadata": {},
   "outputs": [
    {
     "data": {
      "text/plain": [
       "[(7, 'Chirpy', 'Gwen', 'bird', 'f', '1998-09-11', 'NULL'),\n",
       " (8, 'Whistler', 'Gwen', 'bird', 'm', '1997-12-09', 'NULL'),\n",
       " (9, 'Slim', 'Benny', 'snake', 'm', '1996-04-29', 'NULL')]"
      ]
     },
     "execution_count": 16,
     "metadata": {},
     "output_type": "execute_result"
    }
   ],
   "source": [
    "cursor.execute(\"SELECT * FROM pet WHERE species='bird' OR species='snake'\")\n",
    "\n",
    "# Fetch data\n",
    "cursor.fetchall()"
   ]
  },
  {
   "cell_type": "code",
   "execution_count": 17,
   "id": "bbe34823",
   "metadata": {},
   "outputs": [
    {
     "data": {
      "text/plain": [
       "[(3, 'Claws', 'Gwen', 'cat', 'm', '1994-03-17', 'NULL'),\n",
       " (4, 'Buffy', 'Harold', 'dog', 'f', '1989-05-13', 'NULL')]"
      ]
     },
     "execution_count": 17,
     "metadata": {},
     "output_type": "execute_result"
    }
   ],
   "source": [
    "cursor.execute(\"SELECT * FROM pet WHERE (species='cat' AND sex='m') OR (species='dog' AND sex='f')\")\n",
    "\n",
    "# Fetch data\n",
    "cursor.fetchall()"
   ]
  },
  {
   "cell_type": "markdown",
   "id": "1e33bf0c",
   "metadata": {},
   "source": [
    "### Read Particular Columns"
   ]
  },
  {
   "cell_type": "code",
   "execution_count": 18,
   "id": "14462ace",
   "metadata": {},
   "outputs": [
    {
     "data": {
      "text/plain": [
       "[('Puffball', '1999-03-30'),\n",
       " ('Fluffy', '1993-02-04'),\n",
       " ('Claws', '1994-03-17'),\n",
       " ('Buffy', '1989-05-13'),\n",
       " ('Fang', '1990-08-27'),\n",
       " ('Bowser', '1979-08-31'),\n",
       " ('Chirpy', '1998-09-11'),\n",
       " ('Whistler', '1997-12-09'),\n",
       " ('Slim', '1996-04-29')]"
      ]
     },
     "execution_count": 18,
     "metadata": {},
     "output_type": "execute_result"
    }
   ],
   "source": [
    "cursor.execute(\"SELECT name,birth FROM pet\")\n",
    "\n",
    "# Fetch data\n",
    "cursor.fetchall()"
   ]
  },
  {
   "cell_type": "code",
   "execution_count": 19,
   "id": "4bbb4352",
   "metadata": {},
   "outputs": [
    {
     "data": {
      "text/plain": [
       "[('Diane',),\n",
       " ('Harold',),\n",
       " ('Gwen',),\n",
       " ('Harold',),\n",
       " ('Benny',),\n",
       " ('Diane',),\n",
       " ('Gwen',),\n",
       " ('Gwen',),\n",
       " ('Benny',)]"
      ]
     },
     "execution_count": 19,
     "metadata": {},
     "output_type": "execute_result"
    }
   ],
   "source": [
    "cursor.execute(\"SELECT owner FROM pet\")\n",
    "\n",
    "# Fetch data\n",
    "cursor.fetchall()"
   ]
  },
  {
   "cell_type": "code",
   "execution_count": 20,
   "id": "dfcd62de",
   "metadata": {},
   "outputs": [
    {
     "data": {
      "text/plain": [
       "[('Fluffy', 'cat', '1993-02-04'),\n",
       " ('Claws', 'cat', '1994-03-17'),\n",
       " ('Buffy', 'dog', '1989-05-13'),\n",
       " ('Fang', 'dog', '1990-08-27'),\n",
       " ('Bowser', 'dog', '1979-08-31')]"
      ]
     },
     "execution_count": 20,
     "metadata": {},
     "output_type": "execute_result"
    }
   ],
   "source": [
    "cursor.execute(\"SELECT name,species,birth FROM pet WHERE species='dog' OR species='cat'\")\n",
    "\n",
    "# Fetch data\n",
    "cursor.fetchall()"
   ]
  },
  {
   "cell_type": "markdown",
   "id": "8b2e39a7",
   "metadata": {},
   "source": [
    "### Read Distinct Columns"
   ]
  },
  {
   "cell_type": "code",
   "execution_count": 21,
   "id": "f1421b9e",
   "metadata": {},
   "outputs": [
    {
     "data": {
      "text/plain": [
       "[('Diane',), ('Harold',), ('Gwen',), ('Benny',)]"
      ]
     },
     "execution_count": 21,
     "metadata": {},
     "output_type": "execute_result"
    }
   ],
   "source": [
    "cursor.execute(\"SELECT DISTINCT owner from pet\")\n",
    "\n",
    "# Fetch data\n",
    "cursor.fetchall()"
   ]
  },
  {
   "cell_type": "markdown",
   "id": "5fd20b7e",
   "metadata": {},
   "source": [
    "### Sorting Rows"
   ]
  },
  {
   "cell_type": "code",
   "execution_count": 22,
   "id": "40b772f6",
   "metadata": {},
   "outputs": [
    {
     "data": {
      "text/plain": [
       "[('Bowser', '1979-08-31'),\n",
       " ('Buffy', '1989-05-13'),\n",
       " ('Fang', '1990-08-27'),\n",
       " ('Fluffy', '1993-02-04'),\n",
       " ('Claws', '1994-03-17'),\n",
       " ('Slim', '1996-04-29'),\n",
       " ('Whistler', '1997-12-09'),\n",
       " ('Chirpy', '1998-09-11'),\n",
       " ('Puffball', '1999-03-30')]"
      ]
     },
     "execution_count": 22,
     "metadata": {},
     "output_type": "execute_result"
    }
   ],
   "source": [
    "cursor.execute(\"SELECT name,birth FROM pet ORDER BY birth\")\n",
    "\n",
    "#fetch data\n",
    "cursor.fetchall()"
   ]
  },
  {
   "cell_type": "code",
   "execution_count": 23,
   "id": "9eaac64f",
   "metadata": {},
   "outputs": [
    {
     "data": {
      "text/plain": [
       "[('Puffball', '1999-03-30'),\n",
       " ('Chirpy', '1998-09-11'),\n",
       " ('Whistler', '1997-12-09'),\n",
       " ('Slim', '1996-04-29'),\n",
       " ('Claws', '1994-03-17'),\n",
       " ('Fluffy', '1993-02-04'),\n",
       " ('Fang', '1990-08-27'),\n",
       " ('Buffy', '1989-05-13'),\n",
       " ('Bowser', '1979-08-31')]"
      ]
     },
     "execution_count": 23,
     "metadata": {},
     "output_type": "execute_result"
    }
   ],
   "source": [
    "cursor.execute(\"SELECT name,birth FROM pet ORDER BY birth DESC\")\n",
    "\n",
    "#fetch data\n",
    "cursor.fetchall()"
   ]
  },
  {
   "cell_type": "code",
   "execution_count": 24,
   "id": "261ca93e",
   "metadata": {},
   "outputs": [
    {
     "data": {
      "text/plain": [
       "[('Chirpy', 'bird', '1998-09-11'),\n",
       " ('Whistler', 'bird', '1997-12-09'),\n",
       " ('Claws', 'cat', '1994-03-17'),\n",
       " ('Fluffy', 'cat', '1993-02-04'),\n",
       " ('Fang', 'dog', '1990-08-27'),\n",
       " ('Buffy', 'dog', '1989-05-13'),\n",
       " ('Bowser', 'dog', '1979-08-31'),\n",
       " ('Puffball', 'hamster', '1999-03-30'),\n",
       " ('Slim', 'snake', '1996-04-29')]"
      ]
     },
     "execution_count": 24,
     "metadata": {},
     "output_type": "execute_result"
    }
   ],
   "source": [
    "cursor.execute(\"SELECT name,species,birth FROM pet ORDER BY species,birth DESC\")\n",
    "\n",
    "#fetch data\n",
    "cursor.fetchall()"
   ]
  },
  {
   "cell_type": "markdown",
   "id": "8613aa47",
   "metadata": {},
   "source": [
    "#### Data Calculations"
   ]
  },
  {
   "cell_type": "code",
   "execution_count": 25,
   "id": "3cc16ad7",
   "metadata": {},
   "outputs": [
    {
     "data": {
      "text/plain": [
       "[('Puffball', '1999-03-30', datetime.date(2021, 9, 26), 22),\n",
       " ('Fluffy', '1993-02-04', datetime.date(2021, 9, 26), 28),\n",
       " ('Claws', '1994-03-17', datetime.date(2021, 9, 26), 27),\n",
       " ('Buffy', '1989-05-13', datetime.date(2021, 9, 26), 32),\n",
       " ('Fang', '1990-08-27', datetime.date(2021, 9, 26), 31),\n",
       " ('Bowser', '1979-08-31', datetime.date(2021, 9, 26), 42),\n",
       " ('Chirpy', '1998-09-11', datetime.date(2021, 9, 26), 23),\n",
       " ('Whistler', '1997-12-09', datetime.date(2021, 9, 26), 23),\n",
       " ('Slim', '1996-04-29', datetime.date(2021, 9, 26), 25)]"
      ]
     },
     "execution_count": 25,
     "metadata": {},
     "output_type": "execute_result"
    }
   ],
   "source": [
    "cursor.execute(\"SELECT name, birth, CURDATE(), TIMESTAMPDIFF(YEAR, birth, CURDATE()) AS age FROM pet\")\n",
    "\n",
    "#fetch data\n",
    "cursor.fetchall()"
   ]
  },
  {
   "cell_type": "code",
   "execution_count": 26,
   "id": "4fd4570f",
   "metadata": {},
   "outputs": [
    {
     "data": {
      "text/plain": [
       "[('Bowser', '1979-08-31', datetime.date(2021, 9, 26), 42),\n",
       " ('Buffy', '1989-05-13', datetime.date(2021, 9, 26), 32),\n",
       " ('Chirpy', '1998-09-11', datetime.date(2021, 9, 26), 23),\n",
       " ('Claws', '1994-03-17', datetime.date(2021, 9, 26), 27),\n",
       " ('Fang', '1990-08-27', datetime.date(2021, 9, 26), 31),\n",
       " ('Fluffy', '1993-02-04', datetime.date(2021, 9, 26), 28),\n",
       " ('Puffball', '1999-03-30', datetime.date(2021, 9, 26), 22),\n",
       " ('Slim', '1996-04-29', datetime.date(2021, 9, 26), 25),\n",
       " ('Whistler', '1997-12-09', datetime.date(2021, 9, 26), 23)]"
      ]
     },
     "execution_count": 26,
     "metadata": {},
     "output_type": "execute_result"
    }
   ],
   "source": [
    "cursor.execute(\"SELECT name,birth, CURDATE(), TIMESTAMPDIFF(YEAR, birth, CURDATE()) AS age FROM pet ORDER BY name\")\n",
    "\n",
    "#fetch data\n",
    "cursor.fetchall()"
   ]
  },
  {
   "cell_type": "code",
   "execution_count": 27,
   "id": "877ec3f1",
   "metadata": {},
   "outputs": [
    {
     "data": {
      "text/plain": [
       "[('Puffball', '1999-03-30', datetime.date(2021, 9, 26), 22),\n",
       " ('Chirpy', '1998-09-11', datetime.date(2021, 9, 26), 23),\n",
       " ('Whistler', '1997-12-09', datetime.date(2021, 9, 26), 23),\n",
       " ('Slim', '1996-04-29', datetime.date(2021, 9, 26), 25),\n",
       " ('Claws', '1994-03-17', datetime.date(2021, 9, 26), 27),\n",
       " ('Fluffy', '1993-02-04', datetime.date(2021, 9, 26), 28),\n",
       " ('Fang', '1990-08-27', datetime.date(2021, 9, 26), 31),\n",
       " ('Buffy', '1989-05-13', datetime.date(2021, 9, 26), 32),\n",
       " ('Bowser', '1979-08-31', datetime.date(2021, 9, 26), 42)]"
      ]
     },
     "execution_count": 27,
     "metadata": {},
     "output_type": "execute_result"
    }
   ],
   "source": [
    "cursor.execute(\"SELECT name,birth, CURDATE(), TIMESTAMPDIFF(YEAR, birth, CURDATE()) AS age FROM pet ORDER BY age\")\n",
    "\n",
    "#fetch data\n",
    "cursor.fetchall()"
   ]
  },
  {
   "cell_type": "code",
   "execution_count": 28,
   "id": "0dd818cd",
   "metadata": {},
   "outputs": [
    {
     "data": {
      "text/plain": [
       "[('Puffball', '1999-03-30', '', None),\n",
       " ('Fluffy', '1993-02-04', 'NULL', None),\n",
       " ('Claws', '1994-03-17', 'NULL', None),\n",
       " ('Buffy', '1989-05-13', 'NULL', None),\n",
       " ('Fang', '1990-08-27', 'NULL', None),\n",
       " ('Chirpy', '1998-09-11', 'NULL', None),\n",
       " ('Whistler', '1997-12-09', 'NULL', None),\n",
       " ('Slim', '1996-04-29', 'NULL', None),\n",
       " ('Bowser', '1979-08-31', '1995-07-29', 15)]"
      ]
     },
     "execution_count": 28,
     "metadata": {},
     "output_type": "execute_result"
    }
   ],
   "source": [
    "cursor.execute(\"SELECT name, birth, death, TIMESTAMPDIFF(YEAR,birth,death) AS age FROM pet WHERE death IS NOT NULL ORDER BY age\")\n",
    "\n",
    "#fetch data\n",
    "cursor.fetchall()"
   ]
  },
  {
   "cell_type": "code",
   "execution_count": 29,
   "id": "1d2e7a90",
   "metadata": {},
   "outputs": [
    {
     "data": {
      "text/plain": [
       "[('Puffball', '1999-03-30', 3),\n",
       " ('Fluffy', '1993-02-04', 2),\n",
       " ('Claws', '1994-03-17', 3),\n",
       " ('Buffy', '1989-05-13', 5),\n",
       " ('Fang', '1990-08-27', 8),\n",
       " ('Bowser', '1979-08-31', 8),\n",
       " ('Chirpy', '1998-09-11', 9),\n",
       " ('Whistler', '1997-12-09', 12),\n",
       " ('Slim', '1996-04-29', 4)]"
      ]
     },
     "execution_count": 29,
     "metadata": {},
     "output_type": "execute_result"
    }
   ],
   "source": [
    "cursor.execute(\"SELECT name,birth, MONTH(birth) FROM pet\")\n",
    "\n",
    "#fetch data\n",
    "cursor.fetchall()"
   ]
  },
  {
   "cell_type": "code",
   "execution_count": 30,
   "id": "0dfc9c95",
   "metadata": {},
   "outputs": [
    {
     "data": {
      "text/plain": [
       "[('Buffy', '1989-05-13', 5)]"
      ]
     },
     "execution_count": 30,
     "metadata": {},
     "output_type": "execute_result"
    }
   ],
   "source": [
    "cursor.execute(\"SELECT name,birth, MONTH(birth) FROM pet WHERE MONTH(birth)='5'\")\n",
    "\n",
    "#fetch data\n",
    "cursor.fetchall()"
   ]
  },
  {
   "cell_type": "markdown",
   "id": "506c8135",
   "metadata": {},
   "source": [
    "#### Pattern matching"
   ]
  },
  {
   "cell_type": "code",
   "execution_count": 31,
   "id": "ca775c0a",
   "metadata": {},
   "outputs": [
    {
     "data": {
      "text/plain": [
       "[(4, 'Buffy', 'Harold', 'dog', 'f', '1989-05-13', 'NULL'),\n",
       " (6, 'Bowser', 'Diane', 'dog', 'm', '1979-08-31', '1995-07-29')]"
      ]
     },
     "execution_count": 31,
     "metadata": {},
     "output_type": "execute_result"
    }
   ],
   "source": [
    "cursor.execute(\"SELECT * FROM pet WHERE name LIKE 'B%'\")\n",
    "\n",
    "#fetch data\n",
    "cursor.fetchall()"
   ]
  },
  {
   "cell_type": "markdown",
   "id": "79317cd5",
   "metadata": {},
   "source": [
    "mencari pattern nama dengan huruf depan 'B' "
   ]
  },
  {
   "cell_type": "code",
   "execution_count": 32,
   "id": "af5798ab",
   "metadata": {},
   "outputs": [
    {
     "data": {
      "text/plain": [
       "[(2, 'Fluffy', 'Harold', 'cat', 'f', '1993-02-04', 'NULL'),\n",
       " (4, 'Buffy', 'Harold', 'dog', 'f', '1989-05-13', 'NULL')]"
      ]
     },
     "execution_count": 32,
     "metadata": {},
     "output_type": "execute_result"
    }
   ],
   "source": [
    "cursor.execute(\"SELECT * FROM pet WHERE name LIKE '%fy'\")\n",
    "\n",
    "#fecth data\n",
    "cursor.fetchall()"
   ]
  },
  {
   "cell_type": "markdown",
   "id": "bd66c712",
   "metadata": {},
   "source": [
    "mencari pattern nama dengan huruf belakang 'fy' "
   ]
  },
  {
   "cell_type": "code",
   "execution_count": 33,
   "id": "d6f698e6",
   "metadata": {},
   "outputs": [
    {
     "data": {
      "text/plain": [
       "[(3, 'Claws', 'Gwen', 'cat', 'm', '1994-03-17', 'NULL'),\n",
       " (6, 'Bowser', 'Diane', 'dog', 'm', '1979-08-31', '1995-07-29'),\n",
       " (8, 'Whistler', 'Gwen', 'bird', 'm', '1997-12-09', 'NULL')]"
      ]
     },
     "execution_count": 33,
     "metadata": {},
     "output_type": "execute_result"
    }
   ],
   "source": [
    "cursor.execute(\"SELECT * FROM pet WHERE name LIKE '%w%' \")\n",
    "\n",
    "#fetch data\n",
    "cursor.fetchall()"
   ]
  },
  {
   "cell_type": "markdown",
   "id": "dc3861aa",
   "metadata": {},
   "source": [
    "mencari pattern nama yang mengandung huruf 'w' "
   ]
  },
  {
   "cell_type": "code",
   "execution_count": 34,
   "id": "fe77a179",
   "metadata": {},
   "outputs": [
    {
     "data": {
      "text/plain": [
       "[(3, 'Claws', 'Gwen', 'cat', 'm', '1994-03-17', 'NULL'),\n",
       " (4, 'Buffy', 'Harold', 'dog', 'f', '1989-05-13', 'NULL')]"
      ]
     },
     "execution_count": 34,
     "metadata": {},
     "output_type": "execute_result"
    }
   ],
   "source": [
    "cursor.execute(\"SELECT * FROM pet WHERE name LIKE '_____' \")\n",
    "\n",
    "#fetch data\n",
    "cursor.fetchall()"
   ]
  },
  {
   "cell_type": "markdown",
   "id": "735eaca6",
   "metadata": {},
   "source": [
    "mencari pattern nama yang terdiri dari lima karakter '_____' "
   ]
  },
  {
   "cell_type": "markdown",
   "id": "77b87432",
   "metadata": {},
   "source": [
    "#### Counting Rows"
   ]
  },
  {
   "cell_type": "code",
   "execution_count": 35,
   "id": "6c0a4909",
   "metadata": {},
   "outputs": [
    {
     "data": {
      "text/plain": [
       "[(9,)]"
      ]
     },
     "execution_count": 35,
     "metadata": {},
     "output_type": "execute_result"
    }
   ],
   "source": [
    "cursor.execute(\"SELECT COUNT(*) FROM pet\")\n",
    "\n",
    "#fetchdata\n",
    "cursor.fetchall()"
   ]
  },
  {
   "cell_type": "code",
   "execution_count": 36,
   "id": "ad554b76",
   "metadata": {},
   "outputs": [
    {
     "data": {
      "text/plain": [
       "[('Diane', 2), ('Harold', 2), ('Gwen', 3), ('Benny', 2)]"
      ]
     },
     "execution_count": 36,
     "metadata": {},
     "output_type": "execute_result"
    }
   ],
   "source": [
    "cursor.execute(\"SELECT owner, COUNT(*) FROM pet GROUP BY owner\")\n",
    "\n",
    "#fetch data\n",
    "cursor.fetchall()"
   ]
  },
  {
   "cell_type": "markdown",
   "id": "b318dd8f",
   "metadata": {},
   "source": [
    "menghitung berapa banyak pemilik memiliki hewan peliharaan"
   ]
  },
  {
   "cell_type": "code",
   "execution_count": 37,
   "id": "da7dfc06",
   "metadata": {},
   "outputs": [
    {
     "data": {
      "text/plain": [
       "[('hamster', 1), ('cat', 2), ('dog', 3), ('bird', 2), ('snake', 1)]"
      ]
     },
     "execution_count": 37,
     "metadata": {},
     "output_type": "execute_result"
    }
   ],
   "source": [
    "cursor.execute(\"SELECT species, COUNT(*) FROM pet GROUP BY species\")\n",
    "\n",
    "#fetch data\n",
    "cursor.fetchall()"
   ]
  },
  {
   "cell_type": "markdown",
   "id": "a89b3a0a",
   "metadata": {},
   "source": [
    "menghitung ada berapa species per hewan"
   ]
  },
  {
   "cell_type": "code",
   "execution_count": 38,
   "id": "2a334342",
   "metadata": {},
   "outputs": [
    {
     "data": {
      "text/plain": [
       "[('f', 4), ('m', 5)]"
      ]
     },
     "execution_count": 38,
     "metadata": {},
     "output_type": "execute_result"
    }
   ],
   "source": [
    "cursor.execute(\"SELECT sex, COUNT(*) FROM pet GROUP BY sex\")\n",
    "\n",
    "#fetch data\n",
    "cursor.fetchall()"
   ]
  },
  {
   "cell_type": "markdown",
   "id": "10c53a6b",
   "metadata": {},
   "source": [
    "menghitung ada brapa species per sex"
   ]
  },
  {
   "cell_type": "code",
   "execution_count": 39,
   "id": "80a25ee6",
   "metadata": {},
   "outputs": [
    {
     "data": {
      "text/plain": [
       "[('hamster', 'f', 1),\n",
       " ('cat', 'f', 1),\n",
       " ('cat', 'm', 1),\n",
       " ('dog', 'f', 1),\n",
       " ('dog', 'm', 2),\n",
       " ('bird', 'f', 1),\n",
       " ('bird', 'm', 1),\n",
       " ('snake', 'm', 1)]"
      ]
     },
     "execution_count": 39,
     "metadata": {},
     "output_type": "execute_result"
    }
   ],
   "source": [
    "cursor.execute(\"SELECT species,sex, COUNT(*) FROM pet GROUP BY species,sex\")\n",
    "\n",
    "#fetch data\n",
    "cursor.fetchall()"
   ]
  },
  {
   "cell_type": "markdown",
   "id": "2c6f2464",
   "metadata": {},
   "source": [
    "menghitung jumlah hewan per kombinasi dari species dan sex"
   ]
  },
  {
   "cell_type": "code",
   "execution_count": 40,
   "id": "b1af0912",
   "metadata": {},
   "outputs": [
    {
     "data": {
      "text/plain": [
       "[('cat', 'f', 1), ('cat', 'm', 1), ('dog', 'f', 1), ('dog', 'm', 2)]"
      ]
     },
     "execution_count": 40,
     "metadata": {},
     "output_type": "execute_result"
    }
   ],
   "source": [
    "cursor.execute(\"SELECT species,sex, COUNT(*) FROM pet WHERE species='dog' OR species='cat' GROUP BY species,sex\")\n",
    "\n",
    "#fetch data\n",
    "cursor.fetchall()"
   ]
  },
  {
   "cell_type": "markdown",
   "id": "c961c1e5",
   "metadata": {},
   "source": [
    "menghitung jumlah hewan per kombinasi dari species dan sex untuk anjing dan kucing"
   ]
  },
  {
   "cell_type": "code",
   "execution_count": 41,
   "id": "5dd4ee66",
   "metadata": {},
   "outputs": [
    {
     "data": {
      "text/plain": [
       "[('hamster', 'f', 1),\n",
       " ('cat', 'f', 1),\n",
       " ('cat', 'm', 1),\n",
       " ('dog', 'f', 1),\n",
       " ('dog', 'm', 2),\n",
       " ('bird', 'f', 1),\n",
       " ('bird', 'm', 1),\n",
       " ('snake', 'm', 1)]"
      ]
     },
     "execution_count": 41,
     "metadata": {},
     "output_type": "execute_result"
    }
   ],
   "source": [
    "cursor.execute(\"SELECT species,sex, COUNT(*) FROM pet WHERE sex IS NOT NULL GROUP BY species,sex\")\n",
    "\n",
    "#fetch data\n",
    "cursor.fetchall()"
   ]
  },
  {
   "cell_type": "markdown",
   "id": "a9c29957",
   "metadata": {},
   "source": [
    "melihat hewan yang hanya diketahui jenis kelaminnya"
   ]
  },
  {
   "cell_type": "markdown",
   "id": "2f1e0d27",
   "metadata": {},
   "source": [
    "### Using Using More Than one Table (INNER JOIN)"
   ]
  },
  {
   "cell_type": "markdown",
   "id": "f68cd2bc",
   "metadata": {},
   "source": [
    "#### create new table"
   ]
  },
  {
   "cell_type": "code",
   "execution_count": 42,
   "id": "8cb664b4",
   "metadata": {},
   "outputs": [],
   "source": [
    "cursor.execute(\"CREATE TABLE event (name VARCHAR(20), date VARCHAR(20), type VARCHAR(15), remark VARCHAR(255))\")"
   ]
  },
  {
   "cell_type": "markdown",
   "id": "434f7f99",
   "metadata": {},
   "source": [
    "#### create multiple records in table event"
   ]
  },
  {
   "cell_type": "code",
   "execution_count": 43,
   "id": "721671d3",
   "metadata": {},
   "outputs": [
    {
     "name": "stdout",
     "output_type": "stream",
     "text": [
      "Row inserted 0\n"
     ]
    }
   ],
   "source": [
    "query = \"INSERT INTO event (name, date, type, remark) VALUES(%s,%s,%s,%s)\"\n",
    "values = [(\"Fluffy\", \"1995-05-15\", \"litter\", \"4 kittens, 3 female, 1 male\"),\n",
    "          (\"Buffy\", \"1993-06-23\", \"litter\", \"5 puppies, 2 female, 3 male\"),\n",
    "          (\"Buffy\", \"1994-06-19\", \"litter\", \"3 puppies, 3 female\"),\n",
    "          (\"Chirpy\", \"1999-03-21\", \"vet\", \"needed beak straightened\"),\n",
    "          (\"Slim\", \"1997-08-03\", \"vet\", \"broken rib\"),\n",
    "          (\"Bowser\", \"1991-10-12\", \"kennel\", \" \"),\n",
    "          (\"Fang\", \"1991-10-12\", \"kennel\", \" \"),\n",
    "          (\"Fang\", \"1998-08-28\", \"birthday\", \"Gave him a new chew toy\"),\n",
    "          (\"Whistler\", \"1998-12-09\", \"birthday\", \"First birthday\")\n",
    "         ]\n",
    "cursor.executemany(query,values)\n",
    "# Execute statement\n",
    "connection.commit()\n",
    "\n",
    "print(\"Row inserted\",cursor.lastrowid)"
   ]
  },
  {
   "cell_type": "markdown",
   "id": "112cefcb",
   "metadata": {},
   "source": [
    "#### read all table event"
   ]
  },
  {
   "cell_type": "code",
   "execution_count": 44,
   "id": "b0ae778e",
   "metadata": {},
   "outputs": [
    {
     "data": {
      "text/plain": [
       "[('Fluffy', '1995-05-15', 'litter', '4 kittens, 3 female, 1 male'),\n",
       " ('Buffy', '1993-06-23', 'litter', '5 puppies, 2 female, 3 male'),\n",
       " ('Buffy', '1994-06-19', 'litter', '3 puppies, 3 female'),\n",
       " ('Chirpy', '1999-03-21', 'vet', 'needed beak straightened'),\n",
       " ('Slim', '1997-08-03', 'vet', 'broken rib'),\n",
       " ('Bowser', '1991-10-12', 'kennel', ' '),\n",
       " ('Fang', '1991-10-12', 'kennel', ' '),\n",
       " ('Fang', '1998-08-28', 'birthday', 'Gave him a new chew toy'),\n",
       " ('Whistler', '1998-12-09', 'birthday', 'First birthday')]"
      ]
     },
     "execution_count": 44,
     "metadata": {},
     "output_type": "execute_result"
    }
   ],
   "source": [
    "cursor = connection.cursor()\n",
    "\n",
    "cursor.execute(\"SELECT * FROM event\")\n",
    "\n",
    "# Fetch data\n",
    "cursor.fetchall()"
   ]
  },
  {
   "cell_type": "markdown",
   "id": "aeddff61",
   "metadata": {},
   "source": [
    "#### INNER JOIN"
   ]
  },
  {
   "cell_type": "code",
   "execution_count": 45,
   "id": "bbe0d387",
   "metadata": {},
   "outputs": [
    {
     "data": {
      "text/plain": [
       "[('Fluffy', 2, '4 kittens, 3 female, 1 male'),\n",
       " ('Buffy', 5, '3 puppies, 3 female'),\n",
       " ('Buffy', 4, '5 puppies, 2 female, 3 male')]"
      ]
     },
     "execution_count": 45,
     "metadata": {},
     "output_type": "execute_result"
    }
   ],
   "source": [
    "cursor.execute(\"SELECT pet.name, TIMESTAMPDIFF(YEAR, birth, date) AS age, remark from pet INNER JOIN event ON pet.name = event.name WHERE event.type = 'litter' \")\n",
    "\n",
    "#fetch data\n",
    "cursor.fetchall()"
   ]
  },
  {
   "cell_type": "markdown",
   "id": "f1f373f1",
   "metadata": {},
   "source": [
    "### Update Records in Table"
   ]
  },
  {
   "cell_type": "code",
   "execution_count": 46,
   "id": "84c2a927",
   "metadata": {},
   "outputs": [],
   "source": [
    "cursor.execute(\"UPDATE pet SET birth='1989-08-31' WHERE name='Bowser'\")"
   ]
  },
  {
   "cell_type": "markdown",
   "id": "e240e46a",
   "metadata": {},
   "source": [
    "### Delete Records in Table"
   ]
  },
  {
   "cell_type": "code",
   "execution_count": 47,
   "id": "a6cf352f",
   "metadata": {},
   "outputs": [],
   "source": [
    "#cursor.execute(\"DELETE FROM pet WHERE name='Bowser'\")"
   ]
  },
  {
   "cell_type": "markdown",
   "id": "e2b94176",
   "metadata": {},
   "source": [
    "### Drop Table"
   ]
  },
  {
   "cell_type": "markdown",
   "id": "826b5f5c",
   "metadata": {},
   "source": [
    "#### Drop Table"
   ]
  },
  {
   "cell_type": "code",
   "execution_count": 48,
   "id": "b708d3f3",
   "metadata": {},
   "outputs": [],
   "source": [
    "#cursor.execute(\"DROP TABLE pet\")"
   ]
  }
 ],
 "metadata": {
  "kernelspec": {
   "display_name": "Python 3 (ipykernel)",
   "language": "python",
   "name": "python3"
  },
  "language_info": {
   "codemirror_mode": {
    "name": "ipython",
    "version": 3
   },
   "file_extension": ".py",
   "mimetype": "text/x-python",
   "name": "python",
   "nbconvert_exporter": "python",
   "pygments_lexer": "ipython3",
   "version": "3.9.7"
  }
 },
 "nbformat": 4,
 "nbformat_minor": 5
}
